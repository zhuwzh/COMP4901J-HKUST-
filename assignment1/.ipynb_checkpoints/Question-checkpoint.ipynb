{
 "cells": [
  {
   "cell_type": "code",
   "execution_count": 76,
   "metadata": {
    "collapsed": true
   },
   "outputs": [],
   "source": [
    "import numpy as np\n",
    "from past.builtins import xrange"
   ]
  },
  {
   "cell_type": "code",
   "execution_count": 70,
   "metadata": {
    "scrolled": true
   },
   "outputs": [
    {
     "name": "stdout",
     "output_type": "stream",
     "text": [
      "[ 0.  1.]\n",
      "[ 1.  2.]\n",
      "[ 2.  3.]\n",
      "{0: array([ 2.,  3.]), 1: array([ 2.,  3.]), 2: array([ 2.,  3.])}\n"
     ]
    }
   ],
   "source": [
    "## a problem for assigning values -1\n",
    "a = {}\n",
    "b = np.zeros(2)\n",
    "for i in range(3):\n",
    "    for j in range(2):\n",
    "        b[j] = i+j\n",
    "    print(b)\n",
    "    a[i] = b ## a[i] just remember the address of 'b'\n",
    "print(a)"
   ]
  },
  {
   "cell_type": "code",
   "execution_count": 71,
   "metadata": {},
   "outputs": [
    {
     "name": "stdout",
     "output_type": "stream",
     "text": [
      "[ 0.  1.]\n",
      "[ 1.  2.]\n",
      "[ 2.  3.]\n",
      "{0: array([ 0.,  1.]), 1: array([ 1.,  2.]), 2: array([ 2.,  3.])}\n"
     ]
    }
   ],
   "source": [
    "## a problem for assigning values -2\n",
    "a = {}\n",
    "for i in range(3):\n",
    "    b = np.zeros(2)  ## rearange an address for b\n",
    "    for j in range(2):\n",
    "        b[j] = i+j\n",
    "    print(b)\n",
    "    a[i] = b\n",
    "print(a)"
   ]
  },
  {
   "cell_type": "code",
   "execution_count": 72,
   "metadata": {},
   "outputs": [
    {
     "name": "stdout",
     "output_type": "stream",
     "text": [
      "[ 0.  1.]\n",
      "[ 1.  2.]\n",
      "[ 2.  3.]\n",
      "{0: array([ 0.,  1.]), 1: array([ 1.,  2.]), 2: array([ 2.,  3.])}\n"
     ]
    }
   ],
   "source": [
    "## a problem for assigning values -2\n",
    "a = {}\n",
    "b = np.zeros(2)\n",
    "for i in range(3):\n",
    "    for j in range(2):\n",
    "        b[j] = i+j\n",
    "    print(b)\n",
    "    a[i] = b.copy() ## make a copy assigned to a \n",
    "print(a)"
   ]
  },
  {
   "cell_type": "code",
   "execution_count": 73,
   "metadata": {
    "collapsed": true
   },
   "outputs": [],
   "source": [
    "## parent class and child class -1\n",
    "\n",
    "class ExpParent(object):\n",
    "    uu = 1\n",
    "    def __init__(self):\n",
    "        self.vv=1\n",
    "    def aa(self,a,b):\n",
    "        return a+b\n",
    "    def bb(self,a,b):\n",
    "        return self.aa(2*a,2*b)\n",
    "class ExpChild(ExpParent):\n",
    "    \n",
    "#     def bb(self,a,b):\n",
    "#     return self.aa(3*a,3*b)\n",
    "    pass"
   ]
  },
  {
   "cell_type": "code",
   "execution_count": 63,
   "metadata": {
    "collapsed": true
   },
   "outputs": [],
   "source": [
    "## Save object and read object -1\n",
    "\n",
    "import pickle\n",
    "\n",
    "class Company(object):\n",
    "    def __init__(self,name,value):\n",
    "        self.names = name\n",
    "        self.value = value\n",
    "with open('/Users/zwz/company_data.pkl','wb') as output:\n",
    "    company1 = Company('Google','30')\n",
    "    pickle.dump(company1,output,pickle.HIGHEST_PROTOCOL )\n",
    "    company2 = Company('Baidu','10')    \n",
    "    pickle.dump(company2,output,pickle.HIGHEST_PROTOCOL)\n",
    "\n",
    "\n"
   ]
  },
  {
   "cell_type": "code",
   "execution_count": 74,
   "metadata": {},
   "outputs": [
    {
     "name": "stdout",
     "output_type": "stream",
     "text": [
      "Google\n",
      "30\n"
     ]
    }
   ],
   "source": [
    "## Save object and read object -2\n",
    "\n",
    "with open('/Users/zwz/company_data.pkl', 'rb') as input:\n",
    "    company1 = pickle.load(input)\n",
    "    print(company1.names)  # -> banana\n",
    "    print(company1.value)  # -> 40"
   ]
  }
 ],
 "metadata": {
  "kernelspec": {
   "display_name": "Python [conda root]",
   "language": "python",
   "name": "conda-root-py"
  },
  "language_info": {
   "codemirror_mode": {
    "name": "ipython",
    "version": 3
   },
   "file_extension": ".py",
   "mimetype": "text/x-python",
   "name": "python",
   "nbconvert_exporter": "python",
   "pygments_lexer": "ipython3",
   "version": "3.5.3"
  }
 },
 "nbformat": 4,
 "nbformat_minor": 2
}
