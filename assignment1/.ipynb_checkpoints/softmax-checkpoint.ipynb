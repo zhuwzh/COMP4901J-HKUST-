{
 "cells": [
  {
   "cell_type": "markdown",
   "metadata": {},
   "source": [
    "# Softmax exercise\n",
    "\n",
    "*Complete and hand in this completed worksheet (including its outputs and any supporting code outside of the worksheet) with your assignment submission. For more details see the [assignments page](http://vision.stanford.edu/teaching/cs231n/assignments.html) on the course website.*\n",
    "\n",
    "This exercise is analogous to the SVM exercise. You will:\n",
    "\n",
    "- implement a fully-vectorized **loss function** for the Softmax classifier\n",
    "- implement the fully-vectorized expression for its **analytic gradient**\n",
    "- **check your implementation** with numerical gradient\n",
    "- use a validation set to **tune the learning rate and regularization** strength\n",
    "- **optimize** the loss function with **SGD**\n",
    "- **visualize** the final learned weights\n"
   ]
  },
  {
   "cell_type": "code",
   "execution_count": 1,
   "metadata": {
    "collapsed": true
   },
   "outputs": [],
   "source": [
    "import random\n",
    "import numpy as np\n",
    "from cs231n.data_utils import load_CIFAR10\n",
    "import matplotlib.pyplot as plt\n",
    "\n",
    "from __future__ import print_function\n",
    "\n",
    "%matplotlib inline\n",
    "plt.rcParams['figure.figsize'] = (10.0, 8.0) # set default size of plots\n",
    "plt.rcParams['image.interpolation'] = 'nearest'\n",
    "plt.rcParams['image.cmap'] = 'gray'\n",
    "\n",
    "# for auto-reloading extenrnal modules\n",
    "# see http://stackoverflow.com/questions/1907993/autoreload-of-modules-in-ipython\n",
    "%load_ext autoreload\n",
    "%autoreload 2"
   ]
  },
  {
   "cell_type": "code",
   "execution_count": 2,
   "metadata": {
    "scrolled": true
   },
   "outputs": [
    {
     "name": "stdout",
     "output_type": "stream",
     "text": [
      "Train data shape:  (49000, 3073)\n",
      "Train labels shape:  (49000,)\n",
      "Validation data shape:  (1000, 3073)\n",
      "Validation labels shape:  (1000,)\n",
      "Test data shape:  (1000, 3073)\n",
      "Test labels shape:  (1000,)\n",
      "dev data shape:  (500, 3073)\n",
      "dev labels shape:  (500,)\n"
     ]
    }
   ],
   "source": [
    "def get_CIFAR10_data(num_training=49000, num_validation=1000, num_test=1000, num_dev=500):\n",
    "    \"\"\"\n",
    "    Load the CIFAR-10 dataset from disk and perform preprocessing to prepare\n",
    "    it for the linear classifier. These are the same steps as we used for the\n",
    "    SVM, but condensed to a single function.  \n",
    "    \"\"\"\n",
    "    # Load the raw CIFAR-10 data\n",
    "    cifar10_dir = 'cs231n/datasets/cifar-10-batches-py'\n",
    "    X_train, y_train, X_test, y_test = load_CIFAR10(cifar10_dir)\n",
    "    \n",
    "    # subsample the data\n",
    "    mask = list(range(num_training, num_training + num_validation))\n",
    "    X_val = X_train[mask]\n",
    "    y_val = y_train[mask]\n",
    "    mask = list(range(num_training))\n",
    "    X_train = X_train[mask]\n",
    "    y_train = y_train[mask]\n",
    "    mask = list(range(num_test))\n",
    "    X_test = X_test[mask]\n",
    "    y_test = y_test[mask]\n",
    "    mask = np.random.choice(num_training, num_dev, replace=False)\n",
    "    X_dev = X_train[mask]\n",
    "    y_dev = y_train[mask]\n",
    "    \n",
    "    # Preprocessing: reshape the image data into rows\n",
    "    X_train = np.reshape(X_train, (X_train.shape[0], -1))\n",
    "    X_val = np.reshape(X_val, (X_val.shape[0], -1))\n",
    "    X_test = np.reshape(X_test, (X_test.shape[0], -1))\n",
    "    X_dev = np.reshape(X_dev, (X_dev.shape[0], -1))\n",
    "    \n",
    "    # Normalize the data: subtract the mean image\n",
    "    mean_image = np.mean(X_train, axis = 0)\n",
    "    X_train -= mean_image\n",
    "    X_val -= mean_image\n",
    "    X_test -= mean_image\n",
    "    X_dev -= mean_image\n",
    "    \n",
    "    # add bias dimension and transform into columns\n",
    "    X_train = np.hstack([X_train, np.ones((X_train.shape[0], 1))])\n",
    "    X_val = np.hstack([X_val, np.ones((X_val.shape[0], 1))])\n",
    "    X_test = np.hstack([X_test, np.ones((X_test.shape[0], 1))])\n",
    "    X_dev = np.hstack([X_dev, np.ones((X_dev.shape[0], 1))])\n",
    "    \n",
    "    return X_train, y_train, X_val, y_val, X_test, y_test, X_dev, y_dev\n",
    "\n",
    "\n",
    "# Invoke the above function to get our data.\n",
    "X_train, y_train, X_val, y_val, X_test, y_test, X_dev, y_dev = get_CIFAR10_data()\n",
    "print('Train data shape: ', X_train.shape)\n",
    "print('Train labels shape: ', y_train.shape)\n",
    "print('Validation data shape: ', X_val.shape)\n",
    "print('Validation labels shape: ', y_val.shape)\n",
    "print('Test data shape: ', X_test.shape)\n",
    "print('Test labels shape: ', y_test.shape)\n",
    "print('dev data shape: ', X_dev.shape)\n",
    "print('dev labels shape: ', y_dev.shape)"
   ]
  },
  {
   "cell_type": "markdown",
   "metadata": {},
   "source": [
    "## Softmax Classifier\n",
    "\n",
    "Your code for this section will all be written inside **cs231n/classifiers/softmax.py**. \n"
   ]
  },
  {
   "cell_type": "code",
   "execution_count": 3,
   "metadata": {
    "scrolled": true
   },
   "outputs": [
    {
     "name": "stdout",
     "output_type": "stream",
     "text": [
      "loss: 2.359115\n",
      "sanity check: 2.302585\n"
     ]
    }
   ],
   "source": [
    "# First implement the naive softmax loss function with nested loops.\n",
    "# Open the file cs231n/classifiers/softmax.py and implement the\n",
    "# softmax_loss_naive function.\n",
    "\n",
    "from cs231n.classifiers.softmax import softmax_loss_naive\n",
    "from cs231n.classifiers.softmax import softmax_loss_vectorized\n",
    "\n",
    "import time\n",
    "\n",
    "# Generate a random softmax weight matrix and use it to compute the loss.\n",
    "W = np.random.randn(3073, 10) * 0.0001\n",
    "loss, grad = softmax_loss_naive(W, X_dev, y_dev, 0.0)\n",
    "\n",
    "# As a rough sanity check, our loss should be something close to -log(0.1).\n",
    "print('loss: %f' % loss)\n",
    "print('sanity check: %f' % (-np.log(0.1)))"
   ]
  },
  {
   "cell_type": "markdown",
   "metadata": {},
   "source": [
    "## Inline Question 1:\n",
    "Why do we expect our loss to be close to -log(0.1)? Explain briefly.\n",
    "\n",
    "**Your answer:** \n",
    "\n",
    "The loss function is actually the (minus) mean of probability of each sample classifying to the truth.\n",
    "\n",
    "Under a totally random setting of weight, the classifier randomly guesses the result. Which means the probability is nearly 0.1. By Low of Large Number, the loss without regularization terms is around -log(0.1)\n"
   ]
  },
  {
   "cell_type": "code",
   "execution_count": 5,
   "metadata": {
    "scrolled": true
   },
   "outputs": [
    {
     "name": "stdout",
     "output_type": "stream",
     "text": [
      "numerical: 0.434176 analytic: 0.434176, relative error: 2.713702e-08\n",
      "numerical: -2.985851 analytic: -2.985851, relative error: 2.862832e-08\n"
     ]
    },
    {
     "ename": "KeyboardInterrupt",
     "evalue": "",
     "output_type": "error",
     "traceback": [
      "\u001b[0;31m---------------------------------------------------------------------------\u001b[0m",
      "\u001b[0;31mKeyboardInterrupt\u001b[0m                         Traceback (most recent call last)",
      "\u001b[0;32m<ipython-input-5-164992b05949>\u001b[0m in \u001b[0;36m<module>\u001b[0;34m()\u001b[0m\n\u001b[1;32m      7\u001b[0m \u001b[0;32mfrom\u001b[0m \u001b[0mcs231n\u001b[0m\u001b[0;34m.\u001b[0m\u001b[0mgradient_check\u001b[0m \u001b[0;32mimport\u001b[0m \u001b[0mgrad_check_sparse\u001b[0m\u001b[0;34m\u001b[0m\u001b[0m\n\u001b[1;32m      8\u001b[0m \u001b[0mf\u001b[0m \u001b[0;34m=\u001b[0m \u001b[0;32mlambda\u001b[0m \u001b[0mw\u001b[0m\u001b[0;34m:\u001b[0m \u001b[0msoftmax_loss_naive\u001b[0m\u001b[0;34m(\u001b[0m\u001b[0mw\u001b[0m\u001b[0;34m,\u001b[0m \u001b[0mX_dev\u001b[0m\u001b[0;34m,\u001b[0m \u001b[0my_dev\u001b[0m\u001b[0;34m,\u001b[0m \u001b[0;36m0.0\u001b[0m\u001b[0;34m)\u001b[0m\u001b[0;34m[\u001b[0m\u001b[0;36m0\u001b[0m\u001b[0;34m]\u001b[0m\u001b[0;34m\u001b[0m\u001b[0m\n\u001b[0;32m----> 9\u001b[0;31m \u001b[0mgrad_numerical\u001b[0m \u001b[0;34m=\u001b[0m \u001b[0mgrad_check_sparse\u001b[0m\u001b[0;34m(\u001b[0m\u001b[0mf\u001b[0m\u001b[0;34m,\u001b[0m \u001b[0mW\u001b[0m\u001b[0;34m,\u001b[0m \u001b[0mgrad\u001b[0m\u001b[0;34m,\u001b[0m \u001b[0;36m10\u001b[0m\u001b[0;34m)\u001b[0m\u001b[0;34m\u001b[0m\u001b[0m\n\u001b[0m\u001b[1;32m     10\u001b[0m \u001b[0;34m\u001b[0m\u001b[0m\n\u001b[1;32m     11\u001b[0m \u001b[0;31m# similar to SVM case, do another gradient check with regularization\u001b[0m\u001b[0;34m\u001b[0m\u001b[0;34m\u001b[0m\u001b[0m\n",
      "\u001b[0;32m/Users/zwz/Deep_Learning/COMP4901j/assignment1/cs231n/gradient_check.py\u001b[0m in \u001b[0;36mgrad_check_sparse\u001b[0;34m(f, x, analytic_grad, num_checks, h)\u001b[0m\n\u001b[1;32m    116\u001b[0m     \u001b[0moldval\u001b[0m \u001b[0;34m=\u001b[0m \u001b[0mx\u001b[0m\u001b[0;34m[\u001b[0m\u001b[0mix\u001b[0m\u001b[0;34m]\u001b[0m\u001b[0;34m\u001b[0m\u001b[0m\n\u001b[1;32m    117\u001b[0m     \u001b[0mx\u001b[0m\u001b[0;34m[\u001b[0m\u001b[0mix\u001b[0m\u001b[0;34m]\u001b[0m \u001b[0;34m=\u001b[0m \u001b[0moldval\u001b[0m \u001b[0;34m+\u001b[0m \u001b[0mh\u001b[0m \u001b[0;31m# increment by h\u001b[0m\u001b[0;34m\u001b[0m\u001b[0m\n\u001b[0;32m--> 118\u001b[0;31m     \u001b[0mfxph\u001b[0m \u001b[0;34m=\u001b[0m \u001b[0mf\u001b[0m\u001b[0;34m(\u001b[0m\u001b[0mx\u001b[0m\u001b[0;34m)\u001b[0m \u001b[0;31m# evaluate f(x + h)\u001b[0m\u001b[0;34m\u001b[0m\u001b[0m\n\u001b[0m\u001b[1;32m    119\u001b[0m     \u001b[0mx\u001b[0m\u001b[0;34m[\u001b[0m\u001b[0mix\u001b[0m\u001b[0;34m]\u001b[0m \u001b[0;34m=\u001b[0m \u001b[0moldval\u001b[0m \u001b[0;34m-\u001b[0m \u001b[0mh\u001b[0m \u001b[0;31m# increment by h\u001b[0m\u001b[0;34m\u001b[0m\u001b[0m\n\u001b[1;32m    120\u001b[0m     \u001b[0mfxmh\u001b[0m \u001b[0;34m=\u001b[0m \u001b[0mf\u001b[0m\u001b[0;34m(\u001b[0m\u001b[0mx\u001b[0m\u001b[0;34m)\u001b[0m \u001b[0;31m# evaluate f(x - h)\u001b[0m\u001b[0;34m\u001b[0m\u001b[0m\n",
      "\u001b[0;32m<ipython-input-5-164992b05949>\u001b[0m in \u001b[0;36m<lambda>\u001b[0;34m(w)\u001b[0m\n\u001b[1;32m      6\u001b[0m \u001b[0;31m# The numeric gradient should be close to the analytic gradient.\u001b[0m\u001b[0;34m\u001b[0m\u001b[0;34m\u001b[0m\u001b[0m\n\u001b[1;32m      7\u001b[0m \u001b[0;32mfrom\u001b[0m \u001b[0mcs231n\u001b[0m\u001b[0;34m.\u001b[0m\u001b[0mgradient_check\u001b[0m \u001b[0;32mimport\u001b[0m \u001b[0mgrad_check_sparse\u001b[0m\u001b[0;34m\u001b[0m\u001b[0m\n\u001b[0;32m----> 8\u001b[0;31m \u001b[0mf\u001b[0m \u001b[0;34m=\u001b[0m \u001b[0;32mlambda\u001b[0m \u001b[0mw\u001b[0m\u001b[0;34m:\u001b[0m \u001b[0msoftmax_loss_naive\u001b[0m\u001b[0;34m(\u001b[0m\u001b[0mw\u001b[0m\u001b[0;34m,\u001b[0m \u001b[0mX_dev\u001b[0m\u001b[0;34m,\u001b[0m \u001b[0my_dev\u001b[0m\u001b[0;34m,\u001b[0m \u001b[0;36m0.0\u001b[0m\u001b[0;34m)\u001b[0m\u001b[0;34m[\u001b[0m\u001b[0;36m0\u001b[0m\u001b[0;34m]\u001b[0m\u001b[0;34m\u001b[0m\u001b[0m\n\u001b[0m\u001b[1;32m      9\u001b[0m \u001b[0mgrad_numerical\u001b[0m \u001b[0;34m=\u001b[0m \u001b[0mgrad_check_sparse\u001b[0m\u001b[0;34m(\u001b[0m\u001b[0mf\u001b[0m\u001b[0;34m,\u001b[0m \u001b[0mW\u001b[0m\u001b[0;34m,\u001b[0m \u001b[0mgrad\u001b[0m\u001b[0;34m,\u001b[0m \u001b[0;36m10\u001b[0m\u001b[0;34m)\u001b[0m\u001b[0;34m\u001b[0m\u001b[0m\n\u001b[1;32m     10\u001b[0m \u001b[0;34m\u001b[0m\u001b[0m\n",
      "\u001b[0;32m/Users/zwz/Deep_Learning/COMP4901j/assignment1/cs231n/classifiers/softmax.py\u001b[0m in \u001b[0;36msoftmax_loss_naive\u001b[0;34m(W, X, y, reg)\u001b[0m\n\u001b[1;32m     49\u001b[0m \u001b[0;34m\u001b[0m\u001b[0m\n\u001b[1;32m     50\u001b[0m           \u001b[0;32mfor\u001b[0m \u001b[0mk\u001b[0m \u001b[0;32min\u001b[0m \u001b[0mrange\u001b[0m\u001b[0;34m(\u001b[0m\u001b[0mW\u001b[0m\u001b[0;34m.\u001b[0m\u001b[0mshape\u001b[0m\u001b[0;34m[\u001b[0m\u001b[0;36m0\u001b[0m\u001b[0;34m]\u001b[0m\u001b[0;34m)\u001b[0m\u001b[0;34m:\u001b[0m\u001b[0;34m\u001b[0m\u001b[0m\n\u001b[0;32m---> 51\u001b[0;31m               \u001b[0mdW\u001b[0m\u001b[0;34m[\u001b[0m\u001b[0mk\u001b[0m\u001b[0;34m,\u001b[0m\u001b[0mj\u001b[0m\u001b[0;34m]\u001b[0m \u001b[0;34m+=\u001b[0m \u001b[0mdScore\u001b[0m\u001b[0;34m[\u001b[0m\u001b[0mi\u001b[0m\u001b[0;34m,\u001b[0m\u001b[0mj\u001b[0m\u001b[0;34m]\u001b[0m \u001b[0;34m*\u001b[0m \u001b[0mX\u001b[0m\u001b[0;34m[\u001b[0m\u001b[0mi\u001b[0m\u001b[0;34m,\u001b[0m\u001b[0mk\u001b[0m\u001b[0;34m]\u001b[0m\u001b[0;34m\u001b[0m\u001b[0m\n\u001b[0m\u001b[1;32m     52\u001b[0m \u001b[0;34m\u001b[0m\u001b[0m\n\u001b[1;32m     53\u001b[0m       \u001b[0mloss\u001b[0m \u001b[0;34m+=\u001b[0m \u001b[0;34m-\u001b[0m\u001b[0mnp\u001b[0m\u001b[0;34m.\u001b[0m\u001b[0mlog\u001b[0m\u001b[0;34m(\u001b[0m\u001b[0mProb\u001b[0m\u001b[0;34m[\u001b[0m\u001b[0mi\u001b[0m\u001b[0;34m,\u001b[0m\u001b[0my\u001b[0m\u001b[0;34m[\u001b[0m\u001b[0mi\u001b[0m\u001b[0;34m]\u001b[0m\u001b[0;34m]\u001b[0m\u001b[0;34m)\u001b[0m\u001b[0;34m\u001b[0m\u001b[0m\n",
      "\u001b[0;31mKeyboardInterrupt\u001b[0m: "
     ]
    }
   ],
   "source": [
    "# Complete the implementation of softmax_loss_naive and implement a (naive)\n",
    "# version of the gradient that uses nested loops.\n",
    "loss, grad = softmax_loss_naive(W, X_dev, y_dev, 0.0)\n",
    "\n",
    "# As we did for the SVM, use numeric gradient checking as a debugging tool.\n",
    "# The numeric gradient should be close to the analytic gradient.\n",
    "from cs231n.gradient_check import grad_check_sparse\n",
    "f = lambda w: softmax_loss_naive(w, X_dev, y_dev, 0.0)[0]\n",
    "grad_numerical = grad_check_sparse(f, W, grad, 10)\n",
    "\n",
    "# similar to SVM case, do another gradient check with regularization\n",
    "loss, grad = softmax_loss_naive(W, X_dev, y_dev, 5e1)\n",
    "f = lambda w: softmax_loss_naive(w, X_dev, y_dev, 5e1)[0]\n",
    "grad_numerical = grad_check_sparse(f, W, grad, 10)"
   ]
  },
  {
   "cell_type": "code",
   "execution_count": null,
   "metadata": {
    "scrolled": true
   },
   "outputs": [],
   "source": [
    "# Now that we have a naive implementation of the softmax loss function and its gradient,\n",
    "# implement a vectorized version in softmax_loss_vectorized.\n",
    "# The two versions should compute the same results, but the vectorized version should be\n",
    "# much faster.\n",
    "tic = time.time()\n",
    "loss_naive, grad_naive = softmax_loss_naive(W, X_dev, y_dev, 0.000005)\n",
    "toc = time.time()\n",
    "print('naive loss: %e computed in %fs' % (loss_naive, toc - tic))\n",
    "\n",
    "from cs231n.classifiers.softmax import softmax_loss_vectorized\n",
    "tic = time.time()\n",
    "loss_vectorized, grad_vectorized = softmax_loss_vectorized(W, X_dev, y_dev, 0.000005)\n",
    "toc = time.time()\n",
    "print('vectorized loss: %e computed in %fs' % (loss_vectorized, toc - tic))\n",
    "\n",
    "# As we did for the SVM, we use the Frobenius norm to compare the two versions\n",
    "# of the gradient.\n",
    "grad_difference = np.linalg.norm(grad_naive - grad_vectorized, ord='fro')\n",
    "print('Loss difference: %f' % np.abs(loss_naive - loss_vectorized))\n",
    "print('Gradient difference: %f' % grad_difference)"
   ]
  },
  {
   "cell_type": "code",
   "execution_count": null,
   "metadata": {
    "scrolled": true
   },
   "outputs": [],
   "source": [
    "# In the file linear_classifier.py, implement SGD in the function\n",
    "# LinearClassifier.train() and then run it with the code below.\n",
    "from cs231n.classifiers import Softmax\n",
    "sftmax = Softmax() # LinearSVM is a subclass of LinearClassifier\n",
    "\n",
    "loss_hist = sftmax.train(X_train, y_train, learning_rate=9e-7, reg=5*(10**(3)),\n",
    "                      num_iters=2000, batch_size=200, verbose=True)\n",
    "print('Acc is %f' % np.mean(sftmax.predict(X_val) == y_val))"
   ]
  },
  {
   "cell_type": "code",
   "execution_count": 7,
   "metadata": {
    "scrolled": true
   },
   "outputs": [
    {
     "name": "stdout",
     "output_type": "stream",
     "text": [
      "lr 2.021169e-08 reg 2.085997e+04 train accuracy: 0.278898 val accuracy: 0.278000\n",
      "lr 7.559931e-08 reg 1.564571e+04 train accuracy: 0.339837 val accuracy: 0.349000\n",
      "lr 8.276915e-08 reg 1.560502e+04 train accuracy: 0.346694 val accuracy: 0.364000\n",
      "lr 8.979867e-08 reg 1.207660e+04 train accuracy: 0.352224 val accuracy: 0.369000\n",
      "lr 1.033497e-07 reg 5.730724e+03 train accuracy: 0.362082 val accuracy: 0.375000\n",
      "lr 1.040190e-07 reg 1.475931e+04 train accuracy: 0.346735 val accuracy: 0.355000\n",
      "lr 1.070866e-07 reg 3.420444e+04 train accuracy: 0.317388 val accuracy: 0.326000\n",
      "lr 1.159288e-07 reg 1.008841e+04 train accuracy: 0.356898 val accuracy: 0.373000\n",
      "lr 1.234100e-07 reg 5.120770e+04 train accuracy: 0.306776 val accuracy: 0.329000\n",
      "lr 1.758332e-07 reg 9.832096e+03 train accuracy: 0.353510 val accuracy: 0.358000\n",
      "lr 1.887464e-07 reg 2.244960e+03 train accuracy: 0.372490 val accuracy: 0.361000\n",
      "lr 3.268301e-07 reg 1.838768e+04 train accuracy: 0.338102 val accuracy: 0.356000\n",
      "lr 3.820167e-07 reg 1.767782e+04 train accuracy: 0.335224 val accuracy: 0.350000\n",
      "lr 3.948099e-07 reg 8.580044e+04 train accuracy: 0.298245 val accuracy: 0.314000\n",
      "lr 6.854218e-07 reg 2.129695e+03 train accuracy: 0.390388 val accuracy: 0.399000\n",
      "lr 7.195197e-07 reg 2.738124e+04 train accuracy: 0.305592 val accuracy: 0.330000\n",
      "lr 8.095512e-07 reg 4.147377e+03 train accuracy: 0.371082 val accuracy: 0.376000\n",
      "lr 9.644122e-07 reg 6.208940e+02 train accuracy: 0.406857 val accuracy: 0.404000\n",
      "lr 1.179987e-06 reg 1.633626e+03 train accuracy: 0.387735 val accuracy: 0.402000\n",
      "lr 1.189755e-06 reg 2.278563e+03 train accuracy: 0.382122 val accuracy: 0.392000\n",
      "lr 1.457390e-06 reg 3.049818e+03 train accuracy: 0.379857 val accuracy: 0.382000\n",
      "lr 1.559878e-06 reg 6.165913e+03 train accuracy: 0.364592 val accuracy: 0.375000\n",
      "lr 2.441122e-06 reg 2.949608e+03 train accuracy: 0.357041 val accuracy: 0.374000\n",
      "lr 2.483476e-06 reg 2.451507e+03 train accuracy: 0.365143 val accuracy: 0.363000\n",
      "lr 3.213964e-06 reg 1.844815e+03 train accuracy: 0.356714 val accuracy: 0.358000\n",
      "lr 4.171825e-06 reg 5.548616e+03 train accuracy: 0.324959 val accuracy: 0.347000\n",
      "lr 4.554797e-06 reg 2.021001e-03 train accuracy: 0.387082 val accuracy: 0.349000\n",
      "lr 4.738859e-06 reg 8.277388e-03 train accuracy: 0.396796 val accuracy: 0.364000\n",
      "lr 5.102637e-06 reg 1.288588e+03 train accuracy: 0.337755 val accuracy: 0.354000\n",
      "lr 5.179685e-06 reg 6.705874e+02 train accuracy: 0.356918 val accuracy: 0.358000\n",
      "lr 6.197736e-06 reg 1.589683e-03 train accuracy: 0.404388 val accuracy: 0.391000\n",
      "lr 6.361599e-06 reg 1.272580e+03 train accuracy: 0.305408 val accuracy: 0.321000\n",
      "lr 7.133095e-06 reg 5.460055e-04 train accuracy: 0.352163 val accuracy: 0.336000\n",
      "lr 7.855523e-06 reg 4.158313e+03 train accuracy: 0.205918 val accuracy: 0.203000\n",
      "lr 8.356349e-06 reg 1.443532e-02 train accuracy: 0.357000 val accuracy: 0.348000\n",
      "lr 9.991742e-06 reg 7.976880e-04 train accuracy: 0.346429 val accuracy: 0.342000\n",
      "lr 1.064295e-05 reg 1.039218e-03 train accuracy: 0.324653 val accuracy: 0.283000\n",
      "lr 1.363748e-05 reg 3.647609e-02 train accuracy: 0.260469 val accuracy: 0.253000\n",
      "lr 1.632329e-05 reg 3.530876e-03 train accuracy: 0.290327 val accuracy: 0.292000\n",
      "lr 1.722088e-05 reg 9.866913e-04 train accuracy: 0.356918 val accuracy: 0.329000\n",
      "lr 1.752768e-05 reg 8.703649e-03 train accuracy: 0.335694 val accuracy: 0.292000\n",
      "lr 1.954595e-05 reg 1.175284e-03 train accuracy: 0.343490 val accuracy: 0.326000\n",
      "lr 2.326803e-05 reg 8.786584e-02 train accuracy: 0.329000 val accuracy: 0.312000\n",
      "lr 2.393477e-05 reg 1.226524e-03 train accuracy: 0.323980 val accuracy: 0.300000\n",
      "lr 2.650505e-05 reg 2.339831e-03 train accuracy: 0.290694 val accuracy: 0.277000\n",
      "lr 2.670886e-05 reg 4.267190e-02 train accuracy: 0.330816 val accuracy: 0.307000\n",
      "lr 2.776673e-05 reg 2.297548e-02 train accuracy: 0.303551 val accuracy: 0.304000\n",
      "lr 3.082960e-05 reg 1.632124e-03 train accuracy: 0.329143 val accuracy: 0.295000\n",
      "lr 3.089783e-05 reg 2.166196e-02 train accuracy: 0.312204 val accuracy: 0.305000\n",
      "lr 3.375691e-05 reg 2.846113e-02 train accuracy: 0.287286 val accuracy: 0.283000\n",
      "lr 3.399269e-05 reg 1.426786e-02 train accuracy: 0.313449 val accuracy: 0.323000\n",
      "lr 3.466564e-05 reg 1.415200e-02 train accuracy: 0.279939 val accuracy: 0.249000\n",
      "lr 4.039092e-05 reg 3.636178e-02 train accuracy: 0.271551 val accuracy: 0.267000\n",
      "lr 4.420703e-05 reg 2.836374e-02 train accuracy: 0.300837 val accuracy: 0.309000\n",
      "lr 5.397489e-05 reg 3.551851e-03 train accuracy: 0.318000 val accuracy: 0.295000\n",
      "lr 6.189817e-05 reg 1.863543e-02 train accuracy: 0.300735 val accuracy: 0.275000\n",
      "lr 7.373759e-05 reg 4.166935e-02 train accuracy: 0.323633 val accuracy: 0.295000\n",
      "lr 7.903953e-05 reg 3.425342e-03 train accuracy: 0.314796 val accuracy: 0.327000\n",
      "lr 8.002395e-05 reg 3.325958e-02 train accuracy: 0.308755 val accuracy: 0.281000\n",
      "lr 8.317687e-05 reg 1.571397e-03 train accuracy: 0.333633 val accuracy: 0.321000\n",
      "best validation accuracy achieved during cross-validation: 0.404000\n"
     ]
    }
   ],
   "source": [
    "# Use the validation set to tune hyperparameters (regularization strength and\n",
    "# learning rate). You should experiment with different ranges for the learning\n",
    "# rates and regularization strengths; if you are careful you should be able to\n",
    "# get a classification accuracy of over 0.35 on the validation set.\n",
    "from cs231n.classifiers import Softmax\n",
    "results = {}\n",
    "best_val = -1\n",
    "best_softmax = None\n",
    "\n",
    "T = 15\n",
    "\n",
    "idx_str_c = np.random.uniform(low=1,high=10.0,size=4*T)\n",
    "idx_str_o = np.hstack( (np.random.uniform(low=2,high=3,size=T),\n",
    "                        np.random.uniform(low=3,high=4,size=T),\n",
    "                        np.random.uniform(low=-3,high=-2,size=T),\n",
    "                        np.random.uniform(low=-4,high=-3,size=T))\n",
    "                      )\n",
    "\n",
    "idx_rate_c = np.random.uniform(low=1,high=10.0,size=4*T)\n",
    "idx_rate_o = np.hstack( (np.random.uniform(low=1,high=10,size=T) * 1e-7,\n",
    "                         np.random.uniform(low=1,high=10,size=T) * 1e-8,\n",
    "                         np.random.uniform(low=1,high=10,size=T) * 1e-6,\n",
    "                         np.random.uniform(low=1,high=10,size=T) * 1e-6)\n",
    "                       )\n",
    "\n",
    "\n",
    "\n",
    "\n",
    "################################################################################\n",
    "# TODO:                                                                        #\n",
    "# Use the validation set to set the learning rate and regularization strength. #\n",
    "# This should be identical to the validation that you did for the SVM; save    #\n",
    "# the best trained softmax classifer in best_softmax.                          #\n",
    "################################################################################\n",
    "for idx in range(4*T):\n",
    "    sftmax = Softmax()\n",
    "    loss_hist = sftmax.train(X_train,y_train,\n",
    "                             learning_rate=idx_rate_c[idx]*(idx_rate_o[idx]) ,\n",
    "                             reg=idx_str_c[idx]*(10**idx_str_o[idx]),\n",
    "                             num_iters = 2000,batch_size=200, verbose=False)\n",
    "    y_train_pred = sftmax.predict(X_train)\n",
    "    acc_train = np.mean(y_train_pred == y_train)\n",
    "    y_val_pred = sftmax.predict(X_val)\n",
    "    acc_val = np.mean(y_val_pred == y_val)\n",
    "    results[(idx_rate_c[idx]*(idx_rate_o[idx]),idx_str_c[idx]*(10**idx_str_o[idx]))] = (acc_train,acc_val)\n",
    "    if acc_val > best_val:\n",
    "        best_val = acc_val\n",
    "        best_softmax = sftmax\n",
    "#############################################################################################################\n",
    "#                              END OF YOUR CODE                                #\n",
    "################################################################################\n",
    "    \n",
    "# Print out results.\n",
    "for lr, reg in sorted(results):\n",
    "    train_accuracy, val_accuracy = results[(lr, reg)]\n",
    "    print('lr %e reg %e train accuracy: %f val accuracy: %f' % (\n",
    "                lr, reg, train_accuracy, val_accuracy))\n",
    "    \n",
    "print('best validation accuracy achieved during cross-validation: %f' % best_val)"
   ]
  },
  {
   "cell_type": "code",
   "execution_count": 15,
   "metadata": {},
   "outputs": [],
   "source": [
    "# import pickle\n",
    "\n",
    "# with open('BestSoftmaxClassifier.pkl','wb') as output:\n",
    "#     pickle.dump(best_softmax,output,pickle.HIGHEST_PROTOCOL)\n",
    "    \n",
    "# with open('BestSoftmaxClassifier.pkl','rb') as input:\n",
    "#     best_sftmax = pickle.load(input)"
   ]
  },
  {
   "cell_type": "code",
   "execution_count": 8,
   "metadata": {},
   "outputs": [
    {
     "name": "stdout",
     "output_type": "stream",
     "text": [
      "softmax on raw pixels final test set accuracy: 0.380000\n"
     ]
    }
   ],
   "source": [
    "# evaluate on test set\n",
    "# Evaluate the best softmax on test set\n",
    "y_test_pred = best_softmax.predict(X_test)\n",
    "test_accuracy = np.mean(y_test == y_test_pred)\n",
    "print('softmax on raw pixels final test set accuracy: %f' % (test_accuracy, ))"
   ]
  },
  {
   "cell_type": "code",
   "execution_count": 9,
   "metadata": {},
   "outputs": [
    {
     "data": {
      "image/png": "[encoded data removed]",
      "text/plain": [
       "<matplotlib.figure.Figure at 0x117db7e80>"
      ]
     },
     "metadata": {},
     "output_type": "display_data"
    }
   ],
   "source": [
    "# Visualize the learned weights for each class\n",
    "w = best_softmax.W[:-1,:] # strip out the bias\n",
    "w = w.reshape(32, 32, 3, 10)\n",
    "\n",
    "w_min, w_max = np.min(w), np.max(w)\n",
    "\n",
    "classes = ['plane', 'car', 'bird', 'cat', 'deer', 'dog', 'frog', 'horse', 'ship', 'truck']\n",
    "for i in range(10):\n",
    "    plt.subplot(2, 5, i + 1)\n",
    "    \n",
    "    # Rescale the weights to be between 0 and 255\n",
    "    wimg = 255.0 * (w[:, :, :, i].squeeze() - w_min) / (w_max - w_min)\n",
    "    plt.imshow(wimg.astype('uint8'))\n",
    "    plt.axis('off')\n",
    "    plt.title(classes[i])"
   ]
  }
 ],
 "metadata": {
  "kernelspec": {
   "display_name": "Python [conda root]",
   "language": "python",
   "name": "conda-root-py"
  },
  "language_info": {
   "codemirror_mode": {
    "name": "ipython",
    "version": 3
   },
   "file_extension": ".py",
   "mimetype": "text/x-python",
   "name": "python",
   "nbconvert_exporter": "python",
   "pygments_lexer": "ipython3",
   "version": "3.5.3"
  }
 },
 "nbformat": 4,
 "nbformat_minor": 1
}
